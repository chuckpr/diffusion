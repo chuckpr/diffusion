{
 "metadata": {
  "name": "",
  "signature": "sha256:c23dcbe43e621af6b5c0317a295c1bcdad0f9ee912a8827a048f4a882d31295c"
 },
 "nbformat": 3,
 "nbformat_minor": 0,
 "worksheets": [
  {
   "cells": [
    {
     "cell_type": "markdown",
     "metadata": {},
     "source": [
      "This is the equation that relates centrifugal force and brownian motion. Solving it gives you the guassian curve for concentration versus radius. The guassian shape is a balance beteen diffusive flux and flux due to the buoyant force. The term on the left accounts for the centrifugal force, buoyant force, and Stoke's law. The term on the right is the diffusion term representing the work done when a molecule goes against the concentration gradient."
     ]
    },
    {
     "cell_type": "markdown",
     "metadata": {},
     "source": [
      "\\begin{equation*}\n",
      "M_i( 1 - V_i )\\omega^2r dr - \\sum_{K} {\\frac{\\delta \\mu_i}{\\delta C_k}}dC_k = 0\n",
      "\\end{equation*}"
     ]
    },
    {
     "cell_type": "markdown",
     "metadata": {},
     "source": [
      "Equilibrium is where thermodynamic potential is zero across the gradient. Flux due to Brownian motion and the buoyant/centrifugal force are equal (net flux is zero, stuff is moving around but the concentration at any point doesn't change). "
     ]
    },
    {
     "cell_type": "markdown",
     "metadata": {},
     "source": [
      "You can see that this is a differential equation and we can isolate terms such that,"
     ]
    },
    {
     "cell_type": "markdown",
     "metadata": {},
     "source": [
      "\\begin{equation}\n",
      "M_i( 1 - V_i )\\omega^2r dr = \\sum_{K} {\\frac{\\delta \\mu_i}{\\delta C_k}}dC_k \n",
      "\\end{equation}"
     ]
    },
    {
     "cell_type": "markdown",
     "metadata": {},
     "source": [
      "And solving this equation would relate concentration $C_k$ to radius $r$."
     ]
    },
    {
     "cell_type": "markdown",
     "metadata": {},
     "source": [
      "The solution to the equilibrium equation is a guassian curve for concentration versus radius with variance as follows ([Meselsen (1957)](http://www.pnas.org/content/43/7/581.full.pdf+html)):"
     ]
    },
    {
     "cell_type": "markdown",
     "metadata": {},
     "source": [
      "\\begin{equation}\n",
      "\\sigma^2 = \\frac{\\rho RT}{M_{app} \\left(\\frac{d\\rho}{dr}\\right)\\omega^2r}\n",
      "\\end{equation}"
     ]
    },
    {
     "cell_type": "markdown",
     "metadata": {},
     "source": [
      "where $\\sigma^2$ is variance,  \n",
      "$\\rho$ is density,  \n",
      "$R$ is the ideal gas constant,  \n",
      "$T$ is temperature,  \n",
      "$M_{app}$ is the **hydrated** molecular weight of DNA,  \n",
      "$\\frac{d\\rho}{dr}$ is the slope of the density gradient,  \n",
      "$\\omega$ is the angular velocity,   \n",
      "and r is the radius."
     ]
    },
    {
     "cell_type": "markdown",
     "metadata": {},
     "source": [
      "To convert dry molecular weight to hydrated molecular weight you need to multiply by a buoyancy factor represented here as $(1 + \\tau')$ ([Schmid and Hearst (1971)](http://onlinelibrary.wiley.com/doi/10.1002/bip.360101011/abstract) equation 16). "
     ]
    },
    {
     "cell_type": "markdown",
     "metadata": {},
     "source": [
      "\\begin{equation}\n",
      "M_{app} = M_{dry}(1 + \\tau')\n",
      "\\end{equation}"
     ]
    },
    {
     "cell_type": "markdown",
     "metadata": {},
     "source": [
      "$\\sigma^2$ in terms of dry molecular weight is therefore,"
     ]
    },
    {
     "cell_type": "markdown",
     "metadata": {},
     "source": [
      "\\begin{equation}\n",
      "\\sigma^2 = \\frac{\\rho RT}{M_{dry}(1 + \\tau') \\left(\\frac{d\\rho}{dr}\\right)\\omega^2r}\n",
      "\\end{equation}"
     ]
    },
    {
     "cell_type": "markdown",
     "metadata": {},
     "source": [
      "In the equation above, $\\sigma^2$ is in units of ${length}^2$."
     ]
    },
    {
     "cell_type": "markdown",
     "metadata": {},
     "source": [
      "We need to convert the units of $\\sigma^2$ to ${density}^2$ or $(GC\\%)^2$ from ${length}^2$."
     ]
    },
    {
     "cell_type": "markdown",
     "metadata": {},
     "source": [
      "To do this we need to multiply both sides by the squared quantity that represents the relationship between density and length, $\\left(\\frac{d\\rho}{dr}\\right)^2$."
     ]
    },
    {
     "cell_type": "markdown",
     "metadata": {},
     "source": [
      "This gives you,"
     ]
    },
    {
     "cell_type": "markdown",
     "metadata": {},
     "source": [
      "\\begin{equation}\n",
      "\\sigma_\\rho^2 = \\frac{\\rho RT \\left(\\frac{d\\rho}{dr}\\right)}{M_{dry}(1 + \\tau') \\omega^2r}\n",
      "\\end{equation}"
     ]
    },
    {
     "cell_type": "markdown",
     "metadata": {},
     "source": [
      "Getting closer but we dont have $r$. However, we know from [Schmid and Hearst (1971)](http://onlinelibrary.wiley.com/doi/10.1002/bip.360101011/abstract) equation 23 that,"
     ]
    },
    {
     "cell_type": "markdown",
     "metadata": {},
     "source": [
      "\\begin{equation}\n",
      "\\left(\\frac {d\\rho}{dr}\\right) = \\frac{\\omega^2r}{\\beta_B}\n",
      "\\end{equation}"
     ]
    },
    {
     "cell_type": "markdown",
     "metadata": {},
     "source": [
      "Substituting into the equation for $\\sigma_\\rho^2$ gives you,"
     ]
    },
    {
     "cell_type": "markdown",
     "metadata": {},
     "source": [
      "\\begin{equation}\n",
      "\\sigma_\\rho^2 = \\frac{\\rho RT}{M_{dry}(1 + \\tau')\\beta_B}\n",
      "\\end{equation}"
     ]
    },
    {
     "cell_type": "markdown",
     "metadata": {},
     "source": [
      "**This is important because now we see that $\\sigma_\\rho^2$ does not depend on $\\omega$ or $r$.**"
     ]
    },
    {
     "cell_type": "markdown",
     "metadata": {},
     "source": [
      "We don't know the buoyancy factor directly but values for $\\frac{(1+\\tau')}{\\beta}$ are reported in the literature. So, we let $G = \\frac{\\beta_b}{(1 + \\tau')}$ giving,"
     ]
    },
    {
     "cell_type": "markdown",
     "metadata": {},
     "source": [
      "\\begin{equation}\n",
      "\\sigma_\\rho^2 = \\frac{\\rho RT}{M_{dry}G\\beta_B^2}\n",
      "\\end{equation}"
     ]
    },
    {
     "cell_type": "markdown",
     "metadata": {},
     "source": [
      "This is an equation for $\\sigma_\\rho^2$ that can be determined by values available in the literature (see [Hearst and Schmid (1973)](http://www.sciencedirect.com/science/article/pii/S0076687973270088#))."
     ]
    },
    {
     "cell_type": "markdown",
     "metadata": {},
     "source": [
      "If we need $\\sigma^2$ in $GC\\%$ units, we must multiply $\\sigma_\\rho^2$ by the squared relationship between $GC$ and $\\rho$. $GC$ anad $\\rho$ are related like so,"
     ]
    },
    {
     "cell_type": "markdown",
     "metadata": {},
     "source": [
      "\\begin{equation}\n",
      "GC = \\left(\\frac{100\\%}{0.098}\\right)\\rho - 1.660\\left(\\frac{100\\%}{0.098}\\right)\n",
      "\\end{equation}\n",
      "therefore:\n",
      "\\begin{equation}\n",
      "\\frac{dGC}{d\\rho} = \\left(\\frac{100\\%}{0.098}\\right)\n",
      "\\end{equation}"
     ]
    },
    {
     "cell_type": "markdown",
     "metadata": {},
     "source": [
      "We multiply multiply $\\sigma_\\rho^2$ by $\\left(\\frac{dGC}{d\\rho}\\right)^2$ to get,"
     ]
    },
    {
     "cell_type": "markdown",
     "metadata": {},
     "source": [
      "\\begin{equation}\n",
      "\\sigma_{GC}^2 = \\left(\\frac{100\\%}{0.098}\\right)^2 \\frac{\\rho RT}{M_{dry}G\\beta_B^2}\n",
      "\\end{equation}"
     ]
    },
    {
     "cell_type": "markdown",
     "metadata": {},
     "source": [
      "So we've gone from Meselsen 1957 to Clay 2003. We can see from the final equation that, when expressed in terms of density or GC,  the variance due to diffusion depends on the molecular weight $M_{dry}$, density $\\rho$, Temperature $T$, as well as properties of the salt solution $G$ and $\\beta_B^2$."
     ]
    }
   ],
   "metadata": {}
  }
 ]
}